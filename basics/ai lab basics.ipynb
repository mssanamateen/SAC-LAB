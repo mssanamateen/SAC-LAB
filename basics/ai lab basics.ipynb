{
 "cells": [
  {
   "cell_type": "markdown",
   "id": "db1e2eaa-3fd2-4f2e-8aed-527654771836",
   "metadata": {},
   "source": [
    "**Basics of Python**"
   ]
  },
  {
   "cell_type": "code",
   "execution_count": 1,
   "id": "81369bbb-b0da-4860-bcb2-9a50c6a5ed4e",
   "metadata": {},
   "outputs": [
    {
     "name": "stdin",
     "output_type": "stream",
     "text": [
      "enter your message: hello\n"
     ]
    },
    {
     "name": "stdout",
     "output_type": "stream",
     "text": [
      "type of message is: <class 'str'>\n",
      "your message is hello\n"
     ]
    }
   ],
   "source": [
    "message=input(\"enter your message:\")\n",
    "print(\"type of message is:\",type(message))\n",
    "print(\"your message is\", message)"
   ]
  },
  {
   "cell_type": "code",
   "execution_count": 2,
   "id": "47fc61b8-9a12-4ed2-95fc-e7c6157fa1a8",
   "metadata": {},
   "outputs": [
    {
     "name": "stdout",
     "output_type": "stream",
     "text": [
      "hi-->there\n"
     ]
    }
   ],
   "source": [
    "print(\"hi\",\"there\",sep=\"-->\")"
   ]
  },
  {
   "cell_type": "markdown",
   "id": "1d44f07a-b7e9-4209-aed9-de63fe4a2e68",
   "metadata": {},
   "source": [
    "**Arithmetic Operations**"
   ]
  },
  {
   "cell_type": "code",
   "execution_count": 4,
   "id": "8b658735-343c-47b7-a574-d4be8e3fe3d7",
   "metadata": {},
   "outputs": [
    {
     "name": "stdin",
     "output_type": "stream",
     "text": [
      "enter the value of a: 3\n",
      "enter the value for b: 4\n"
     ]
    },
    {
     "name": "stdout",
     "output_type": "stream",
     "text": [
      "3+4 is: 7\n"
     ]
    }
   ],
   "source": [
    "a=int(input(\"enter the value of a:\"))\n",
    "b=int(input(\"enter the value for b:\"))\n",
    "print(f\"{a}+{b} is:\",(a+b))"
   ]
  },
  {
   "cell_type": "code",
   "execution_count": 5,
   "id": "2ec5a8b0-ec60-4af3-8308-37acbae9577f",
   "metadata": {},
   "outputs": [
    {
     "name": "stdin",
     "output_type": "stream",
     "text": [
      "enter the value of a: 4\n",
      "enter the value for b: 3\n"
     ]
    },
    {
     "name": "stdout",
     "output_type": "stream",
     "text": [
      "4-3 is: 1\n"
     ]
    }
   ],
   "source": [
    "a=int(input(\"enter the value of a:\"))\n",
    "b=int(input(\"enter the value for b:\"))\n",
    "print(f\"{a}-{b} is:\",(a-b))"
   ]
  },
  {
   "cell_type": "code",
   "execution_count": 6,
   "id": "63158c6c-c81e-4b08-a50d-0408ed83c036",
   "metadata": {},
   "outputs": [
    {
     "name": "stdin",
     "output_type": "stream",
     "text": [
      "enter the value of a: 2\n",
      "enter the value for b: 3\n"
     ]
    },
    {
     "name": "stdout",
     "output_type": "stream",
     "text": [
      "2*3 is: 6\n"
     ]
    }
   ],
   "source": [
    "a=int(input(\"enter the value of a:\"))\n",
    "b=int(input(\"enter the value for b:\"))\n",
    "print(f\"{a}*{b} is:\",(a*b))"
   ]
  },
  {
   "cell_type": "code",
   "execution_count": 7,
   "id": "6cc21422-ce83-4ce0-abd2-b73a03fa4616",
   "metadata": {},
   "outputs": [
    {
     "name": "stdin",
     "output_type": "stream",
     "text": [
      "enter the value of a: 4\n",
      "enter the value for b: 2\n"
     ]
    },
    {
     "name": "stdout",
     "output_type": "stream",
     "text": [
      "4/2 is: 2.0\n"
     ]
    }
   ],
   "source": [
    "a=int(input(\"enter the value of a:\"))\n",
    "b=int(input(\"enter the value for b:\"))\n",
    "print(f\"{a}/{b} is:\",(a/b))"
   ]
  },
  {
   "cell_type": "markdown",
   "id": "18d36ea0-2c14-43d8-9909-209e9a89db78",
   "metadata": {},
   "source": [
    "**type conversion example**"
   ]
  },
  {
   "cell_type": "code",
   "execution_count": 8,
   "id": "60a5cfef-b58c-41b1-a822-f811aedcb157",
   "metadata": {},
   "outputs": [
    {
     "ename": "TypeError",
     "evalue": "unsupported operand type(s) for +: 'int' and 'str'",
     "output_type": "error",
     "traceback": [
      "\u001b[1;31m---------------------------------------------------------------------------\u001b[0m",
      "\u001b[1;31mTypeError\u001b[0m                                 Traceback (most recent call last)",
      "Cell \u001b[1;32mIn[8], line 3\u001b[0m\n\u001b[0;32m      1\u001b[0m a\u001b[38;5;241m=\u001b[39m\u001b[38;5;241m3\u001b[39m\n\u001b[0;32m      2\u001b[0m b\u001b[38;5;241m=\u001b[39m\u001b[38;5;124m\"\u001b[39m\u001b[38;5;124msam\u001b[39m\u001b[38;5;124m\"\u001b[39m\n\u001b[1;32m----> 3\u001b[0m \u001b[38;5;28mprint\u001b[39m(a\u001b[38;5;241m+\u001b[39mb)\n",
      "\u001b[1;31mTypeError\u001b[0m: unsupported operand type(s) for +: 'int' and 'str'"
     ]
    }
   ],
   "source": [
    "a=3\n",
    "b=\"sam\"\n",
    "print(a+b)"
   ]
  },
  {
   "cell_type": "code",
   "execution_count": 10,
   "id": "9a9edff9-4fa6-48aa-bbe1-d71f3a9144ae",
   "metadata": {},
   "outputs": [
    {
     "name": "stdout",
     "output_type": "stream",
     "text": [
      "sam3\n"
     ]
    }
   ],
   "source": [
    "a=3\n",
    "b=\"sam\"\n",
    "#str() converts specified value to a string\n",
    "print(b+str(a))"
   ]
  },
  {
   "cell_type": "code",
   "execution_count": 11,
   "id": "48d65bb8-5899-4db5-a21a-51b01203a8db",
   "metadata": {},
   "outputs": [
    {
     "name": "stdout",
     "output_type": "stream",
     "text": [
      "samsamsam\n"
     ]
    }
   ],
   "source": [
    "print(b*a)"
   ]
  },
  {
   "cell_type": "code",
   "execution_count": 12,
   "id": "741999e9-84bb-4b21-b916-8c87c8d9dbd9",
   "metadata": {},
   "outputs": [
    {
     "name": "stdout",
     "output_type": "stream",
     "text": [
      "9\n"
     ]
    }
   ],
   "source": [
    "print(a**2)"
   ]
  },
  {
   "cell_type": "code",
   "execution_count": 13,
   "id": "9e141493-baff-4a54-8106-7ae68e191b66",
   "metadata": {},
   "outputs": [
    {
     "name": "stdout",
     "output_type": "stream",
     "text": [
      "2\n"
     ]
    }
   ],
   "source": [
    "print(a-1)"
   ]
  },
  {
   "cell_type": "code",
   "execution_count": 14,
   "id": "81e9bd6d-75b6-4e76-923b-daa8922d1516",
   "metadata": {},
   "outputs": [
    {
     "name": "stdout",
     "output_type": "stream",
     "text": [
      "1.0\n"
     ]
    }
   ],
   "source": [
    "print(a/3)"
   ]
  },
  {
   "cell_type": "code",
   "execution_count": 15,
   "id": "170ff70c-2fd1-4d61-8adc-05df2aba3d32",
   "metadata": {},
   "outputs": [
    {
     "name": "stdout",
     "output_type": "stream",
     "text": [
      "1\n"
     ]
    }
   ],
   "source": [
    "print(a//3)"
   ]
  },
  {
   "cell_type": "code",
   "execution_count": 16,
   "id": "bdcbdabf-45c5-44a8-af43-6748bdf6705f",
   "metadata": {},
   "outputs": [
    {
     "name": "stdout",
     "output_type": "stream",
     "text": [
      "0\n"
     ]
    }
   ],
   "source": [
    "print(a%3)"
   ]
  },
  {
   "cell_type": "markdown",
   "id": "c2238538-ecda-4b8a-a9b2-cd697816b5b4",
   "metadata": {},
   "source": [
    "**Loops**"
   ]
  },
  {
   "cell_type": "code",
   "execution_count": 18,
   "id": "58a61293-d9eb-45b7-b749-e6d67275dbfe",
   "metadata": {},
   "outputs": [
    {
     "name": "stdout",
     "output_type": "stream",
     "text": [
      "0\n",
      "1\n",
      "2\n",
      "3\n",
      "4\n"
     ]
    }
   ],
   "source": [
    "#range function returns a sequence of numbers starting from 0 which is default value and increments by 1\n",
    "for i in range(0,5):\n",
    "    print(i)"
   ]
  },
  {
   "cell_type": "code",
   "execution_count": 19,
   "id": "4520d259-1429-4f02-848a-9485814d15ea",
   "metadata": {},
   "outputs": [
    {
     "name": "stdout",
     "output_type": "stream",
     "text": [
      "1 2 3 4 5 "
     ]
    }
   ],
   "source": [
    "#while loop\n",
    "i=1\n",
    "while i<=5:\n",
    "    print(i,end=\" \")\n",
    "    i+=1"
   ]
  },
  {
   "cell_type": "code",
   "execution_count": 20,
   "id": "271e2b5a-8d28-426a-b32e-a97358804f85",
   "metadata": {},
   "outputs": [
    {
     "name": "stdout",
     "output_type": "stream",
     "text": [
      "1\n",
      "2\n",
      "3\n",
      "4\n",
      "5\n"
     ]
    }
   ],
   "source": [
    "i=1\n",
    "while True:\n",
    "    print(i)\n",
    "    i=i+1\n",
    "    if(i>5):\n",
    "        break"
   ]
  },
  {
   "cell_type": "code",
   "execution_count": 21,
   "id": "a5edafb6-0100-4945-b9b0-b3bea162d624",
   "metadata": {},
   "outputs": [
    {
     "name": "stdout",
     "output_type": "stream",
     "text": [
      "0\n",
      "1\n",
      "2\n",
      "3\n",
      "4\n",
      "for loop\n"
     ]
    }
   ],
   "source": [
    "#for with else\n",
    "n=5\n",
    "for i in range(n):\n",
    "    print(i)\n",
    "else:\n",
    "    print(\"for loop\")"
   ]
  },
  {
   "cell_type": "code",
   "execution_count": 22,
   "id": "9b0329e8-84ad-4c5e-b5bf-df1f2faf361b",
   "metadata": {},
   "outputs": [
    {
     "name": "stdout",
     "output_type": "stream",
     "text": [
      "Inside Loop\n",
      "Inside Loop\n",
      "Inside Loop\n",
      "Inside else\n"
     ]
    }
   ],
   "source": [
    "#while loop with else\n",
    "counter=0\n",
    "while counter<3:\n",
    "    print('Inside Loop')\n",
    "    counter=counter+1\n",
    "else:\n",
    "    print('Inside else')\n",
    "    "
   ]
  },
  {
   "cell_type": "code",
   "execution_count": 23,
   "id": "3c78870c-07f8-4478-81c5-e2022802000a",
   "metadata": {},
   "outputs": [
    {
     "name": "stdout",
     "output_type": "stream",
     "text": [
      "it is positive\n"
     ]
    }
   ],
   "source": [
    "#if constructs\n",
    "num=10\n",
    "if num>0:\n",
    "    print('it is positive')\n",
    "else:\n",
    "    print('it is negative')"
   ]
  },
  {
   "cell_type": "code",
   "execution_count": 24,
   "id": "c22c7fa7-ec5b-4848-baae-4be77e19d68d",
   "metadata": {},
   "outputs": [
    {
     "name": "stdout",
     "output_type": "stream",
     "text": [
      "number x= 4\n",
      "y= 5\n"
     ]
    }
   ],
   "source": [
    "#swap two numbers\n",
    "x=5\n",
    "y=4\n",
    "x,y=y,x\n",
    "print(\"number x=\",x)\n",
    "print(\"y=\",y)"
   ]
  },
  {
   "cell_type": "code",
   "execution_count": 26,
   "id": "c5495aec-256f-4cef-8e0e-6c98363e3226",
   "metadata": {},
   "outputs": [
    {
     "name": "stdin",
     "output_type": "stream",
     "text": [
      "enter the number: 153\n"
     ]
    },
    {
     "name": "stdout",
     "output_type": "stream",
     "text": [
      "153 is armstrong\n"
     ]
    }
   ],
   "source": [
    "#armstrong numbers\n",
    "num=int(input(\"enter the number:\"))\n",
    "sum=0\n",
    "temp=num\n",
    "while temp>0:\n",
    "    digit=temp%10\n",
    "    sum+=digit**3\n",
    "    temp//=10\n",
    "if num==sum:\n",
    "    print(num,\"is armstrong\")\n",
    "else:\n",
    "    print(num,\"is not an armstrong\")"
   ]
  },
  {
   "cell_type": "code",
   "execution_count": 27,
   "id": "ae9060b0-7d5d-4f46-b55d-15372b2706c8",
   "metadata": {},
   "outputs": [
    {
     "name": "stdin",
     "output_type": "stream",
     "text": [
      "enter the number:  4\n"
     ]
    },
    {
     "name": "stdout",
     "output_type": "stream",
     "text": [
      "24\n"
     ]
    }
   ],
   "source": [
    "#find the factorial of a number\n",
    "num=int(input(\"enter the number: \"))\n",
    "fact=1\n",
    "if num < 0:\n",
    "  print(\"factorial of -ve number does not exist\")\n",
    "elif num==0:\n",
    "  print(\"factorial of 0 is\",fact)\n",
    "else:\n",
    "  for i in range(1,num+1):\n",
    "    fact=fact*i\n",
    "  print(fact)"
   ]
  }
 ],
 "metadata": {
  "kernelspec": {
   "display_name": "Python 3 (ipykernel)",
   "language": "python",
   "name": "python3"
  },
  "language_info": {
   "codemirror_mode": {
    "name": "ipython",
    "version": 3
   },
   "file_extension": ".py",
   "mimetype": "text/x-python",
   "name": "python",
   "nbconvert_exporter": "python",
   "pygments_lexer": "ipython3",
   "version": "3.11.7"
  }
 },
 "nbformat": 4,
 "nbformat_minor": 5
}
