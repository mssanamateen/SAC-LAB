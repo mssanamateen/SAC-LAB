{
 "cells": [
  {
   "cell_type": "markdown",
   "metadata": {
    "id": "IGfWiBQEF023"
   },
   "source": [
    "**Checks** **the Python version**"
   ]
  },
  {
   "cell_type": "code",
   "execution_count": 12,
   "metadata": {
    "colab": {
     "base_uri": "https://localhost:8080/"
    },
    "id": "PXhS2QFUFeZc",
    "outputId": "944a979f-fb7c-4aa8-e20b-9bdc25517718"
   },
   "outputs": [
    {
     "name": "stdout",
     "output_type": "stream",
     "text": [
      "Python 3.11.13\n"
     ]
    }
   ],
   "source": [
    "!python --version"
   ]
  },
  {
   "cell_type": "markdown",
   "metadata": {
    "id": "Fv53hG1SGFUO"
   },
   "source": [
    "**display the text using print method**"
   ]
  },
  {
   "cell_type": "code",
   "execution_count": null,
   "metadata": {
    "colab": {
     "base_uri": "https://localhost:8080/"
    },
    "id": "6AL6Os3PFmHT",
    "outputId": "ec885409-2ae0-4383-f8c6-98ce2d30cf01"
   },
   "outputs": [
    {
     "name": "stdout",
     "output_type": "stream",
     "text": [
      "Welcome to Python Programming Lab\n"
     ]
    }
   ],
   "source": [
    "print(\"Welcome to Python Programming Lab\")"
   ]
  },
  {
   "cell_type": "markdown",
   "metadata": {
    "id": "A1uTLhPVGbYt"
   },
   "source": [
    "**Separator in print method-- Specifies how to separate the objects, if there is more than one**"
   ]
  },
  {
   "cell_type": "markdown",
   "metadata": {
    "id": "yncBLL0dHH7m"
   },
   "source": []
  },
  {
   "cell_type": "code",
   "execution_count": null,
   "metadata": {
    "colab": {
     "base_uri": "https://localhost:8080/"
    },
    "id": "p5xcB9X8GP0Q",
    "outputId": "38305c97-4bbd-4e9c-aa1d-2144e79c389b"
   },
   "outputs": [
    {
     "name": "stdout",
     "output_type": "stream",
     "text": [
      "Hi--How are you doing?\n"
     ]
    }
   ],
   "source": [
    "print(\"Hi\",\"How are you doing?\",sep=\"--\")"
   ]
  },
  {
   "cell_type": "markdown",
   "metadata": {
    "id": "R_0zHVgsHDDw"
   },
   "source": [
    "**end=Specify what to print at the end. Default is '\\n' (line feed)**"
   ]
  },
  {
   "cell_type": "code",
   "execution_count": null,
   "metadata": {
    "colab": {
     "base_uri": "https://localhost:8080/"
    },
    "id": "MUacxHYvGpbU",
    "outputId": "71cfb60f-41d9-4901-8343-57c6a18232c0"
   },
   "outputs": [
    {
     "name": "stdout",
     "output_type": "stream",
     "text": [
      "Helloworld\n"
     ]
    }
   ],
   "source": [
    "print(\"Hello\",end=\"\")\n",
    "print(\"world\")"
   ]
  },
  {
   "cell_type": "code",
   "execution_count": null,
   "metadata": {
    "colab": {
     "base_uri": "https://localhost:8080/"
    },
    "id": "7wAJeul8HlDl",
    "outputId": "96ec257c-517a-4187-fead-348e7168eb0e"
   },
   "outputs": [
    {
     "name": "stdout",
     "output_type": "stream",
     "text": [
      "Hello,world\n"
     ]
    }
   ],
   "source": [
    "print(\"Hello\",end=\",\")\n",
    "print(\"world\")"
   ]
  },
  {
   "cell_type": "markdown",
   "metadata": {
    "id": "Jnjpl9kPPTYD"
   },
   "source": [
    "variables-Variables do not need to be declared with any particular type, and can even change type after they have been set.Variables are containers for storing data values.\n",
    "\n",
    "\n",
    "*   A variable can have a short name (like x and y) or a more descriptive name (age, carname, total_volume). Rules for Python variables:\n",
    "*  **A variable name must start with a letter or the underscore character**\n",
    "\n",
    "*   A variable name cannot start with a number\n",
    "*   **A variable name can only contain alpha-numeric characters and underscores (A-z, 0-9, and _ )**\n",
    "*   Variable names are case-sensitive (age, Age and AGE are three different variables)\n",
    "*   **A variable name cannot be any of the Python keywords**\n",
    "\n",
    "\n",
    "\n",
    "\n",
    "\n",
    "\n",
    "\n"
   ]
  },
  {
   "cell_type": "markdown",
   "metadata": {
    "id": "j3_Uugzp6OWx"
   },
   "source": [
    "List of Keywords in Python\n",
    "- and\n",
    "- as  \n",
    "- assert  \n",
    "- break  \n",
    "- class\n",
    "- continue  \n",
    "- def  \n",
    "- del  \n",
    "- elif  \n",
    "- else\n",
    "- except  \n",
    "- finally\n",
    "- for\n",
    "- from\n",
    "- False  \n",
    "- global\n",
    "- if\n",
    "- import\n",
    "- in\n",
    "- is\n",
    "- lambda\n",
    "- None\n",
    "- not\n",
    "- nonlocal\n",
    "- or\n",
    "- pass\n",
    "- raise\n",
    "- return\n",
    "- try\n",
    "- True\n",
    "- while\n",
    "-  with\n",
    "- yield"
   ]
  },
  {
   "cell_type": "code",
   "execution_count": 1,
   "metadata": {},
   "outputs": [
    {
     "name": "stdout",
     "output_type": "stream",
     "text": [
      "['False', 'None', 'True', 'and', 'as', 'assert', 'async', 'await', 'break', 'class', 'continue', 'def', 'del', 'elif', 'else', 'except', 'finally', 'for', 'from', 'global', 'if', 'import', 'in', 'is', 'lambda', 'nonlocal', 'not', 'or', 'pass', 'raise', 'return', 'try', 'while', 'with', 'yield']\n",
      "35\n"
     ]
    }
   ],
   "source": [
    "import keyword\n",
    "print(keyword.kwlist)\n",
    "print(len(keyword.kwlist))"
   ]
  },
  {
   "cell_type": "code",
   "execution_count": null,
   "metadata": {
    "colab": {
     "base_uri": "https://localhost:8080/"
    },
    "id": "xrJ3jlrbPS5L",
    "outputId": "94079319-b953-4962-f1a4-3de15187e169"
   },
   "outputs": [
    {
     "name": "stdout",
     "output_type": "stream",
     "text": [
      "python\n"
     ]
    }
   ],
   "source": [
    "x = 3       # x is of type int\n",
    "x = \"python\" # x is now of type str\n",
    "print(x)"
   ]
  },
  {
   "cell_type": "code",
   "execution_count": null,
   "metadata": {
    "id": "wakwcuIsSZ_Z"
   },
   "outputs": [],
   "source": [
    "myvar = \"PYTHON\"\n",
    "my_var = \"PYTHON\"\n",
    "_my_var = \"PYTHON\"\n",
    "myVar = \"PYTHON\"\n",
    "MYVAR = \"PYTHON\"\n",
    "myvar2 = \"PYTHON\""
   ]
  },
  {
   "cell_type": "code",
   "execution_count": null,
   "metadata": {
    "colab": {
     "base_uri": "https://localhost:8080/",
     "height": 106
    },
    "id": "FTE96janSepW",
    "outputId": "10b08513-7530-497e-e466-327020e102dc"
   },
   "outputs": [
    {
     "ename": "SyntaxError",
     "evalue": "invalid decimal literal (<ipython-input-17-aa1b75d8c15e>, line 3)",
     "output_type": "error",
     "traceback": [
      "\u001b[0;36m  File \u001b[0;32m\"<ipython-input-17-aa1b75d8c15e>\"\u001b[0;36m, line \u001b[0;32m3\u001b[0m\n\u001b[0;31m    2myvar = \"PYTHON\"\u001b[0m\n\u001b[0m    ^\u001b[0m\n\u001b[0;31mSyntaxError\u001b[0m\u001b[0;31m:\u001b[0m invalid decimal literal\n"
     ]
    }
   ],
   "source": [
    "#Illegal variable names:\n",
    "\n",
    "2myvar = \"PYTHON\"\n",
    "my-var = \"PYTHON\"\n",
    "my var = \"PYTHON\""
   ]
  },
  {
   "cell_type": "markdown",
   "metadata": {
    "id": "x2WKItNTHweO"
   },
   "source": [
    "**Arithmetic Operations**"
   ]
  },
  {
   "cell_type": "code",
   "execution_count": null,
   "metadata": {
    "colab": {
     "base_uri": "https://localhost:8080/"
    },
    "id": "zhwgrbOlHzyM",
    "outputId": "05f26b9c-7ee8-4cf2-e1f0-985387db8128"
   },
   "outputs": [
    {
     "name": "stdout",
     "output_type": "stream",
     "text": [
      "5\n"
     ]
    }
   ],
   "source": [
    "x=2\n",
    "y=3\n",
    "print(x+y)"
   ]
  },
  {
   "cell_type": "code",
   "execution_count": null,
   "metadata": {
    "colab": {
     "base_uri": "https://localhost:8080/"
    },
    "id": "7JGbNANPH50_",
    "outputId": "4cf9e4e9-05c1-42ba-bc0d-2432f35db944"
   },
   "outputs": [
    {
     "name": "stdout",
     "output_type": "stream",
     "text": [
      "-1\n"
     ]
    }
   ],
   "source": [
    "print(x-y)"
   ]
  },
  {
   "cell_type": "code",
   "execution_count": null,
   "metadata": {
    "colab": {
     "base_uri": "https://localhost:8080/"
    },
    "id": "U5gNUW7rO9r0",
    "outputId": "3746c5ef-e314-4916-fe60-4f1dda1fa43c"
   },
   "outputs": [
    {
     "name": "stdout",
     "output_type": "stream",
     "text": [
      "0.6666666666666666\n"
     ]
    }
   ],
   "source": [
    "print(x/y)"
   ]
  },
  {
   "cell_type": "code",
   "execution_count": null,
   "metadata": {
    "colab": {
     "base_uri": "https://localhost:8080/"
    },
    "id": "Ne1WjvgePAvt",
    "outputId": "97972820-d798-4f13-a26f-d1c3eba7a6c3"
   },
   "outputs": [
    {
     "name": "stdout",
     "output_type": "stream",
     "text": [
      "0\n",
      "3.3333333333333335\n",
      "3\n"
     ]
    }
   ],
   "source": [
    "#divides x by y and rounds down to the nearest integer\n",
    "print(x//y)\n",
    "print(10/3)\n",
    "print(10//3)"
   ]
  },
  {
   "cell_type": "markdown",
   "metadata": {
    "id": "1sTBB05lQWi6"
   },
   "source": [
    "**Casting:If you want to specify the data type of a variable, this can be done with casting.**"
   ]
  },
  {
   "cell_type": "code",
   "execution_count": null,
   "metadata": {
    "id": "Sc6jWmoNPDPx"
   },
   "outputs": [],
   "source": [
    "x = str(3)    # x will be '3'\n",
    "y = int(3)    # y will be 3\n",
    "z = float(3)  # z will be 3.0"
   ]
  },
  {
   "cell_type": "code",
   "execution_count": null,
   "metadata": {
    "colab": {
     "base_uri": "https://localhost:8080/"
    },
    "id": "LWeMm5ezQqV5",
    "outputId": "78aea7f2-5b20-4c5b-b882-374a12878a58"
   },
   "outputs": [
    {
     "data": {
      "text/plain": [
       "3"
      ]
     },
     "execution_count": 45,
     "metadata": {},
     "output_type": "execute_result"
    }
   ],
   "source": [
    "int(3.555)"
   ]
  },
  {
   "cell_type": "markdown",
   "metadata": {
    "id": "PsZcZ-BBQtEI"
   },
   "source": [
    "**Get the Type**\n",
    "- **You can get the data type of a variable with the type() function.**"
   ]
  },
  {
   "cell_type": "code",
   "execution_count": null,
   "metadata": {
    "colab": {
     "base_uri": "https://localhost:8080/"
    },
    "id": "KP-2L_GeQrLB",
    "outputId": "318f66ed-06cf-49ed-d9ec-9177022e9e25"
   },
   "outputs": [
    {
     "name": "stdout",
     "output_type": "stream",
     "text": [
      "<class 'int'>\n",
      "<class 'str'>\n"
     ]
    }
   ],
   "source": [
    "x = 5\n",
    "y = \"AI-B\"\n",
    "print(type(x))\n",
    "print(type(y))"
   ]
  },
  {
   "cell_type": "markdown",
   "metadata": {
    "id": "XMS6BvwJQ-a4"
   },
   "source": [
    "**Single or Double Quotes?\n",
    "String variables can be declared either by using single or double quotes:**"
   ]
  },
  {
   "cell_type": "code",
   "execution_count": null,
   "metadata": {
    "colab": {
     "base_uri": "https://localhost:8080/"
    },
    "id": "SYOQbgZQQ1D3",
    "outputId": "547539a5-377b-4d1d-84f6-d09fea480da7"
   },
   "outputs": [
    {
     "name": "stdout",
     "output_type": "stream",
     "text": [
      "good\n"
     ]
    }
   ],
   "source": [
    "x = \"awesome\"\n",
    "# is the same as\n",
    "x = 'good'\n",
    "print(x)"
   ]
  },
  {
   "cell_type": "markdown",
   "metadata": {
    "id": "KYUaMvGJRRCY"
   },
   "source": [
    "**Case-Sensitive\n",
    "Variable names are case-sensitive.**"
   ]
  },
  {
   "cell_type": "code",
   "execution_count": null,
   "metadata": {
    "id": "2hgurtqORVqz"
   },
   "outputs": [],
   "source": [
    "a = 4\n",
    "A = \"list\"\n",
    "#A will not overwrite a"
   ]
  },
  {
   "cell_type": "markdown",
   "metadata": {
    "id": "TwHy-PLfSt0v"
   },
   "source": [
    "**Many Values to Multiple Variables**"
   ]
  },
  {
   "cell_type": "code",
   "execution_count": 5,
   "metadata": {
    "colab": {
     "base_uri": "https://localhost:8080/"
    },
    "id": "G8RlusgjSxi5",
    "outputId": "60e4e60b-a903-4e71-9e9a-49b76e841b5b"
   },
   "outputs": [
    {
     "name": "stdout",
     "output_type": "stream",
     "text": [
      "SAC\n",
      "DBMS\n",
      "SEC-IOT\n"
     ]
    }
   ],
   "source": [
    "x, y, z = \"SAC\", \"DBMS\", \"SEC-IOT\"\n",
    "print(x)\n",
    "print(y)\n",
    "print(z)"
   ]
  },
  {
   "cell_type": "markdown",
   "metadata": {
    "id": "Qy15yEvFS5au"
   },
   "source": [
    "**One Value to Multiple Variables\n",
    "And you can assign the same value to multiple variables in one line:**"
   ]
  },
  {
   "cell_type": "code",
   "execution_count": null,
   "metadata": {
    "colab": {
     "base_uri": "https://localhost:8080/"
    },
    "id": "JcTsJr6RS48J",
    "outputId": "a5c18c80-943c-4b60-f599-4e2a32f1d729"
   },
   "outputs": [
    {
     "name": "stdout",
     "output_type": "stream",
     "text": [
      "PYTHON\n",
      "PYTHON\n",
      "PYTHON\n"
     ]
    }
   ],
   "source": [
    "x = y = z = \"PYTHON\"\n",
    "print(x)\n",
    "print(y)\n",
    "print(z)"
   ]
  },
  {
   "cell_type": "markdown",
   "metadata": {
    "id": "9uureCDTTJg2"
   },
   "source": [
    "**In the print() function, you output multiple variables, separated by a comma:**"
   ]
  },
  {
   "cell_type": "code",
   "execution_count": null,
   "metadata": {
    "colab": {
     "base_uri": "https://localhost:8080/"
    },
    "id": "E708B9EYTHhP",
    "outputId": "312f445b-8452-42a7-85a6-3362852aa1d7"
   },
   "outputs": [
    {
     "name": "stdout",
     "output_type": "stream",
     "text": [
      "Python is awesome\n"
     ]
    }
   ],
   "source": [
    "x = \"Python\"\n",
    "y = \"is\"\n",
    "z = \"awesome\"\n",
    "print(x, y, z)"
   ]
  },
  {
   "cell_type": "markdown",
   "metadata": {
    "id": "mLTgk-kwXH7T"
   },
   "source": [
    "**Built-in Data Types**\n",
    "- In programming, data type is an important concept.\n",
    "- Variables can store data of different types, and different types can do different things.\n",
    "-Python has the following data types built-in by default, in these categories:"
   ]
  },
  {
   "cell_type": "markdown",
   "metadata": {
    "id": "02fp-j8kVyvh"
   },
   "source": [
    "**Numbers**\n",
    "- Integers, floating point numbers and complex numbers fall under Python numbers category.\n",
    "- They are defined as int, float and complex class in Python. Integers can be of any length; it is only limited by the memory available.\n",
    "- A floating point number is accurate up to 15 decimal places.\n",
    "- Integer and floating points are separated by decimal points.\n",
    "- 1 is an integer,\n",
    "- 1.0 is floating point number.\n",
    "- Complex numbers are written in the form, x + yj, where x is the real part and y is the imaginary part."
   ]
  },
  {
   "cell_type": "markdown",
   "metadata": {
    "id": "gVr5PCPbXj4s"
   },
   "source": [
    "**Getting the Data Type\n",
    "You can get the data type of any object by using the type() function:**"
   ]
  },
  {
   "cell_type": "code",
   "execution_count": null,
   "metadata": {
    "colab": {
     "base_uri": "https://localhost:8080/"
    },
    "id": "QgKMOPVeXG1U",
    "outputId": "3405c26f-b1b0-45a6-fea8-17d7bc50f4aa"
   },
   "outputs": [
    {
     "name": "stdout",
     "output_type": "stream",
     "text": [
      "<class 'int'>\n"
     ]
    }
   ],
   "source": [
    "x = 5\n",
    "print(type(x))"
   ]
  },
  {
   "cell_type": "code",
   "execution_count": 1,
   "metadata": {
    "colab": {
     "base_uri": "https://localhost:8080/"
    },
    "id": "XiY-kuUjWLJw",
    "outputId": "8e532427-5b7f-4374-9796-38e0ea719721"
   },
   "outputs": [
    {
     "name": "stdout",
     "output_type": "stream",
     "text": [
      "<class 'float'>\n"
     ]
    }
   ],
   "source": [
    "y=5.5\n",
    "print(type(y))"
   ]
  },
  {
   "cell_type": "code",
   "execution_count": 3,
   "metadata": {
    "colab": {
     "base_uri": "https://localhost:8080/",
     "height": 109
    },
    "id": "etvEoMdGWXen",
    "outputId": "be649b51-0d72-45fd-915f-35bba304f5c1"
   },
   "outputs": [
    {
     "ename": "SyntaxError",
     "evalue": "invalid decimal literal (ipython-input-1525576340.py, line 1)",
     "output_type": "error",
     "traceback": [
      "\u001b[0;36m  File \u001b[0;32m\"/tmp/ipython-input-1525576340.py\"\u001b[0;36m, line \u001b[0;32m1\u001b[0m\n\u001b[0;31m    w=2+3i\u001b[0m\n\u001b[0m        ^\u001b[0m\n\u001b[0;31mSyntaxError\u001b[0m\u001b[0;31m:\u001b[0m invalid decimal literal\n"
     ]
    }
   ],
   "source": [
    "w=2+3i\n",
    "print(type(w))"
   ]
  },
  {
   "cell_type": "markdown",
   "metadata": {
    "id": "0ErAnDugWnnI"
   },
   "source": [
    "**Python uses j instead of i to represent the imaginary part.**"
   ]
  },
  {
   "cell_type": "code",
   "execution_count": 2,
   "metadata": {
    "colab": {
     "base_uri": "https://localhost:8080/"
    },
    "id": "QkTbeG8GWSho",
    "outputId": "7c0bd6e1-c81e-4fec-e33b-6150b10c8d04"
   },
   "outputs": [
    {
     "name": "stdout",
     "output_type": "stream",
     "text": [
      "<class 'complex'>\n"
     ]
    }
   ],
   "source": [
    "z=2+3j\n",
    "print(type(z))"
   ]
  },
  {
   "cell_type": "markdown",
   "metadata": {
    "id": "nfLC2S1kW2y_"
   },
   "source": [
    "**Boolean**\n",
    "- **The Boolean values, True and False are treated as reserved words.**"
   ]
  },
  {
   "cell_type": "code",
   "execution_count": 4,
   "metadata": {
    "colab": {
     "base_uri": "https://localhost:8080/"
    },
    "id": "8RH9CBhSXCYH",
    "outputId": "7943b9ad-4d48-4a36-a63a-2b322b147304"
   },
   "outputs": [
    {
     "name": "stdout",
     "output_type": "stream",
     "text": [
      "<class 'bool'>\n"
     ]
    }
   ],
   "source": [
    "is_student = True\n",
    "print(type(is_student))"
   ]
  },
  {
   "cell_type": "code",
   "execution_count": 5,
   "metadata": {
    "colab": {
     "base_uri": "https://localhost:8080/"
    },
    "id": "M1gFSH5jXLjf",
    "outputId": "c8f9c5a0-fa66-4d36-9a04-6dce49225de1"
   },
   "outputs": [
    {
     "name": "stdout",
     "output_type": "stream",
     "text": [
      "<class 'bool'>\n"
     ]
    }
   ],
   "source": [
    "is_emp=False\n",
    "print(type(is_emp))"
   ]
  },
  {
   "cell_type": "markdown",
   "metadata": {
    "id": "mzMckW8nfmPe"
   },
   "source": [
    "**A string** consists of a sequence of one or more characters, which can include letters, numbers, and other types of characters.\n",
    "- A string can also contain spaces. You can use single\n",
    "quotes or double quotes to represent strings and it is also called a string literal.\n",
    "- Multiline strings can be denoted using triple quotes, ''' or \"\"\".\n",
    "- These are fixed values, not variables that you literally provide in your script.\n",
    "- For example,\n",
    "- 1. >>> s = 'This is single quote string'\n",
    "- 2. >>> s = \"This is double quote string\"\n",
    "- 3. >>> s = '''This is\n",
    "                Multiline\n",
    "                string'''\n",
    "- 4. >>> s = \"a\""
   ]
  },
  {
   "cell_type": "code",
   "execution_count": 6,
   "metadata": {
    "colab": {
     "base_uri": "https://localhost:8080/"
    },
    "id": "JjJ2LchZgJUE",
    "outputId": "92b29628-35d4-4541-dd4f-9ca8295c159d"
   },
   "outputs": [
    {
     "name": "stdout",
     "output_type": "stream",
     "text": [
      "<class 'str'>\n"
     ]
    }
   ],
   "source": [
    "subject_name=\"Statistical analytics and computing using Python\"\n",
    "print(type(subject_name))"
   ]
  },
  {
   "cell_type": "code",
   "execution_count": 7,
   "metadata": {
    "colab": {
     "base_uri": "https://localhost:8080/"
    },
    "id": "IYa3Z6pBovRK",
    "outputId": "160797e0-051e-47f1-c106-39c4edd81d83"
   },
   "outputs": [
    {
     "name": "stdout",
     "output_type": "stream",
     "text": [
      "<class 'str'>\n"
     ]
    }
   ],
   "source": [
    "subject_name='Statistical analytics and computing using Python'\n",
    "print(type(subject_name))"
   ]
  },
  {
   "cell_type": "code",
   "execution_count": 8,
   "metadata": {
    "colab": {
     "base_uri": "https://localhost:8080/"
    },
    "id": "lULixb4goz51",
    "outputId": "2dcaf8e6-2308-40ce-be9e-3d7530f036e8"
   },
   "outputs": [
    {
     "name": "stdout",
     "output_type": "stream",
     "text": [
      "<class 'str'>\n"
     ]
    }
   ],
   "source": [
    "subject_name='''Statistical analytics and computing using Python lab\n",
    "              needs regorous practice '''\n",
    "print(type(subject_name))"
   ]
  },
  {
   "cell_type": "code",
   "execution_count": 10,
   "metadata": {
    "colab": {
     "base_uri": "https://localhost:8080/"
    },
    "id": "BtbaPhsQpldL",
    "outputId": "14e8ad1a-4eba-4c71-c0b7-61a339f500c2"
   },
   "outputs": [
    {
     "name": "stdout",
     "output_type": "stream",
     "text": [
      "<class 'str'>\n"
     ]
    }
   ],
   "source": [
    "name=\"a\"\n",
    "print(type(name))"
   ]
  },
  {
   "cell_type": "code",
   "execution_count": 11,
   "metadata": {
    "colab": {
     "base_uri": "https://localhost:8080/"
    },
    "id": "JhkHImCbppsr",
    "outputId": "ee695488-a4af-4e37-db04-de754d793851"
   },
   "outputs": [
    {
     "name": "stdout",
     "output_type": "stream",
     "text": [
      "<class 'str'>\n"
     ]
    }
   ],
   "source": [
    "name='a'\n",
    "print(type(name))"
   ]
  },
  {
   "cell_type": "markdown",
   "metadata": {
    "id": "tOIAEwGPpDdz"
   },
   "source": [
    "**None** is another special data type in Python.\n",
    "- None is frequently used to represent the absence of a value. For example,\n",
    "- 1. >>> money = None"
   ]
  },
  {
   "cell_type": "code",
   "execution_count": 9,
   "metadata": {
    "colab": {
     "base_uri": "https://localhost:8080/"
    },
    "id": "mq7TFprTpNCa",
    "outputId": "9da1064e-ca77-4849-fc6a-660c92a93a18"
   },
   "outputs": [
    {
     "name": "stdout",
     "output_type": "stream",
     "text": [
      "<class 'NoneType'>\n"
     ]
    }
   ],
   "source": [
    "marks=None\n",
    "print(type(marks))"
   ]
  },
  {
   "cell_type": "markdown",
   "metadata": {
    "id": "SQoe8jac2cae"
   },
   "source": [
    "- Comments\n",
    "- **A comment is a text that describes what the program or a particular part of the program is trying to do and is ignored by the Python interpreter**\n",
    "- In Python, **use the hash (#) symbol to start writing a comment**. Hash (#) symbol makes all text following it on the same line into a comment. For example,\n",
    "- #This is single line Python comment"
   ]
  },
  {
   "cell_type": "markdown",
   "metadata": {
    "id": "RIqDQWc-3FVE"
   },
   "source": [
    "- Another way of doing this is to **use triple quotes, either ''' or \"\"\"**. These triple quotes are generally used for multiline strings. However, they can be used as a multiline comment as well.\n",
    "- For example,\n",
    "'''This is\n",
    " multiline comment\n",
    " in Python using triple quotes'''\n"
   ]
  },
  {
   "cell_type": "code",
   "execution_count": 13,
   "metadata": {
    "colab": {
     "base_uri": "https://localhost:8080/"
    },
    "id": "NjpStCNF3AJc",
    "outputId": "beab4390-b4ac-46cb-a31a-557079e63734"
   },
   "outputs": [
    {
     "name": "stdout",
     "output_type": "stream",
     "text": [
      "enter ur name: sana\n",
      "welcome sana\n"
     ]
    }
   ],
   "source": [
    "''' input() function is used to gather data from the user. The syntax for input function is,\n",
    "variable_name = input([prompt])'''\n",
    "name=input(\"enter ur name: \")\n",
    "print(\"welcome\", name)"
   ]
  },
  {
   "cell_type": "code",
   "execution_count": 2,
   "metadata": {
    "id": "QRec6yQE3YR_"
   },
   "outputs": [
    {
     "name": "stdin",
     "output_type": "stream",
     "text": [
      "enter the value of a: 2\n",
      "enter the value of b: 3\n"
     ]
    },
    {
     "name": "stdout",
     "output_type": "stream",
     "text": [
      "23\n"
     ]
    }
   ],
   "source": [
    "a=input(\"enter the value of a:\")\n",
    "b=input(\"enter the value of b:\")\n",
    "\n",
    "print(a+b)"
   ]
  },
  {
   "cell_type": "code",
   "execution_count": 4,
   "metadata": {},
   "outputs": [
    {
     "name": "stdin",
     "output_type": "stream",
     "text": [
      "enter the value of a: 2\n",
      "enter the value of b: 3\n"
     ]
    },
    {
     "name": "stdout",
     "output_type": "stream",
     "text": [
      "5\n"
     ]
    }
   ],
   "source": [
    "a=int(input(\"enter the value of a:\"))\n",
    "b=int(input(\"enter the value of b:\"))\n",
    "\n",
    "print(a+b)"
   ]
  },
  {
   "cell_type": "code",
   "execution_count": null,
   "metadata": {},
   "outputs": [],
   "source": [
    "#Print Output\n",
    "'''The print() function allows a program to display text onto the console. The print function\n",
    "will print everything as strings and anything that is not already a string is automatically\n",
    "converted to its string representation.'''\n"
   ]
  },
  {
   "cell_type": "markdown",
   "metadata": {},
   "source": [
    "- There are two major string formats which are used inside the print() function to display the contents onto the console as they are less error prone and results in cleaner code.\n",
    "- They are\n",
    "- 1. str.format()\n",
    "- 2. f-strings"
   ]
  },
  {
   "cell_type": "markdown",
   "metadata": {},
   "source": [
    "**str.format() method**\n",
    "- Use str.format() method if you need to insert the value of a variable, expression or an object into another string and display it to the user as a single string. **The format() method returns a new string with inserted values**. The format() method works for all releases of Python 3.x.\n",
    "- **The format() method uses its arguments to substitute an appropriate value for each format\n",
    "code in the template**."
   ]
  },
  {
   "cell_type": "code",
   "execution_count": 8,
   "metadata": {},
   "outputs": [
    {
     "name": "stdin",
     "output_type": "stream",
     "text": [
      "What is your passion? cyber security\n"
     ]
    },
    {
     "name": "stdout",
     "output_type": "stream",
     "text": [
      "cyber security is my passion\n"
     ]
    }
   ],
   "source": [
    "passion=input(\"What is your passion?\")\n",
    "print(\"{0} is my passion\".format(passion))"
   ]
  },
  {
   "cell_type": "code",
   "execution_count": 10,
   "metadata": {},
   "outputs": [
    {
     "name": "stdout",
     "output_type": "stream",
     "text": [
      "The values of a is 10 and b is 20\n",
      "The values of b is 20 and a is 10\n"
     ]
    }
   ],
   "source": [
    "#positional change of indexes of arguments\n",
    "a=10\n",
    "b=20\n",
    "print(\"The values of a is {0} and b is {1}\".format(a,b))\n",
    "print(\"The values of b is {1} and a is {0}\". format(a,b))"
   ]
  },
  {
   "cell_type": "code",
   "execution_count": 12,
   "metadata": {},
   "outputs": [
    {
     "name": "stdout",
     "output_type": "stream",
     "text": [
      "You can do the impossible\n"
     ]
    }
   ],
   "source": [
    "print(\"You can do the {a}\".format(a=\"impossible\"))"
   ]
  },
  {
   "cell_type": "markdown",
   "metadata": {},
   "source": [
    "**A f-string is a string literal that is prefixed with “f”.**\n",
    "- **These strings may contain replacement fields, which are expressions\n",
    "enclosed within curly braces {}. The expressions are replaced with their values**"
   ]
  },
  {
   "cell_type": "code",
   "execution_count": 2,
   "metadata": {},
   "outputs": [
    {
     "name": "stdin",
     "output_type": "stream",
     "text": [
      "enter the radius of the circle 2\n"
     ]
    },
    {
     "name": "stdout",
     "output_type": "stream",
     "text": [
      "the area of  circle is 12.566\n",
      "the circumference of  circle is 12.566\n"
     ]
    }
   ],
   "source": [
    "radius=int(input(\"enter the radius of the circle\"))\n",
    "area_of_circle=3.1415*radius*radius\n",
    "circumference=2*3.1415*radius\n",
    "print(f\"the area of  circle is {area_of_circle}\")\n",
    "print(f\"the circumference of  circle is {circumference}\")"
   ]
  },
  {
   "cell_type": "markdown",
   "metadata": {},
   "source": [
    "**Write Python Program to Convert the Given Number of Days\n",
    "to a Measure of Time Given in Years, Weeks and Days. For Example,\n",
    "365 Days Is Equal to 1 Year, 1 Week and 3 Days (Ignore Leap Year).**"
   ]
  },
  {
   "cell_type": "code",
   "execution_count": 10,
   "metadata": {},
   "outputs": [
    {
     "name": "stdin",
     "output_type": "stream",
     "text": [
      "Enter number of days 400\n"
     ]
    },
    {
     "name": "stdout",
     "output_type": "stream",
     "text": [
      "Years = 1, Weeks = 5, Days =0\n"
     ]
    }
   ],
   "source": [
    "number_of_days = int(input(\"Enter number of days\"))\n",
    "number_of_years = int(number_of_days/365)\n",
    "'''First, number_of_days % 365 finds leftover days after removing full years.\n",
    "Then divides by 7 to get whole weeks.'''\n",
    "number_of_weeks = int(number_of_days % 365 / 7)\n",
    "'''Finds days left after removing years and weeks.'''\n",
    "remaining_number_of_days = int(number_of_days % 365 % 7)\n",
    "print(f\"Years = {number_of_years}, Weeks = {number_of_weeks}, Days ={remaining_number_of_days}\")"
   ]
  },
  {
   "cell_type": "markdown",
   "metadata": {},
   "source": [
    "**int() To explicitly convert a float number or a string to an integer, cast the number using int() function**"
   ]
  },
  {
   "cell_type": "code",
   "execution_count": 23,
   "metadata": {},
   "outputs": [
    {
     "name": "stdin",
     "output_type": "stream",
     "text": [
      "enter your birth year: 1995\n"
     ]
    },
    {
     "name": "stdout",
     "output_type": "stream",
     "text": [
      "you are 30 years old\n"
     ]
    }
   ],
   "source": [
    "birth_year=input(\"enter your birth year:\")\n",
    "birth_year=int(birth_year)\n",
    "current_year=2025\n",
    "age=current_year-birth_year\n",
    "print(f\"you are {age} years old\")"
   ]
  },
  {
   "cell_type": "markdown",
   "metadata": {},
   "source": [
    "**The float() function returns a floating point number constructed from a number or string.**"
   ]
  },
  {
   "cell_type": "code",
   "execution_count": 29,
   "metadata": {},
   "outputs": [
    {
     "name": "stdin",
     "output_type": "stream",
     "text": [
      "enter total marks: 500\n",
      "enter the marks obtained: 360\n"
     ]
    },
    {
     "name": "stdout",
     "output_type": "stream",
     "text": [
      "Exact percentage:72.0%\n",
      "Whole percentage shown on report:72%\n"
     ]
    }
   ],
   "source": [
    "total_marks=int(input(\"enter total marks:\"))\n",
    "marks_obtained=int(input(\"enter the marks obtained:\"))\n",
    "percentage=(marks_obtained/total_marks)*100\n",
    "whole_percentage=int(percentage)\n",
    "\n",
    "print(f\"Exact percentage:{percentage}%\")\n",
    "print(f\"Whole percentage shown on report:{whole_percentage}%\")"
   ]
  },
  {
   "cell_type": "markdown",
   "metadata": {},
   "source": [
    "**The str() function returns a string which is fairly human readable.**"
   ]
  },
  {
   "cell_type": "code",
   "execution_count": 34,
   "metadata": {},
   "outputs": [
    {
     "ename": "TypeError",
     "evalue": "can only concatenate str (not \"int\") to str",
     "output_type": "error",
     "traceback": [
      "\u001b[1;31m---------------------------------------------------------------------------\u001b[0m",
      "\u001b[1;31mTypeError\u001b[0m                                 Traceback (most recent call last)",
      "Cell \u001b[1;32mIn[34], line 2\u001b[0m\n\u001b[0;32m      1\u001b[0m age\u001b[38;5;241m=\u001b[39m\u001b[38;5;241m25\u001b[39m\n\u001b[1;32m----> 2\u001b[0m \u001b[38;5;28mprint\u001b[39m(\u001b[38;5;124m\"\u001b[39m\u001b[38;5;124m I am \u001b[39m\u001b[38;5;124m\"\u001b[39m\u001b[38;5;241m+\u001b[39mage\u001b[38;5;241m+\u001b[39m\u001b[38;5;124m\"\u001b[39m\u001b[38;5;124m years old\u001b[39m\u001b[38;5;124m\"\u001b[39m)\n",
      "\u001b[1;31mTypeError\u001b[0m: can only concatenate str (not \"int\") to str"
     ]
    }
   ],
   "source": [
    "age=25\n",
    "print(\" I am \"+age+\" years old\")"
   ]
  },
  {
   "cell_type": "code",
   "execution_count": 36,
   "metadata": {},
   "outputs": [
    {
     "name": "stdout",
     "output_type": "stream",
     "text": [
      " I am 25 years old\n"
     ]
    }
   ],
   "source": [
    "age=25\n",
    "print(\" I am \"+str(age)+\" years old\")"
   ]
  },
  {
   "cell_type": "markdown",
   "metadata": {},
   "source": [
    "**Convert an integer to a string of one character whose ASCII code is same as the integer\n",
    "using chr() function. The integer value should be in the range of 0–255.**"
   ]
  },
  {
   "cell_type": "code",
   "execution_count": 39,
   "metadata": {},
   "outputs": [
    {
     "name": "stdin",
     "output_type": "stream",
     "text": [
      "Enter an integer between 0 and 255  65\n"
     ]
    },
    {
     "name": "stdout",
     "output_type": "stream",
     "text": [
      "The ASCII character for 65 is :A\n"
     ]
    }
   ],
   "source": [
    "num=int(input(\"Enter an integer between 0 and 255 \"))\n",
    "char=chr(num)\n",
    "print(f\"The ASCII character for {num} is :{char}\")"
   ]
  },
  {
   "cell_type": "markdown",
   "metadata": {},
   "source": [
    "**Use complex() function to print a complex number with the value real + imag***"
   ]
  },
  {
   "cell_type": "code",
   "execution_count": 42,
   "metadata": {},
   "outputs": [
    {
     "name": "stdout",
     "output_type": "stream",
     "text": [
      "Complex number (real+imag): (3+4j)\n"
     ]
    }
   ],
   "source": [
    "c1=complex(3,4)\n",
    "print(\"Complex number (real+imag):\",c1)"
   ]
  },
  {
   "cell_type": "markdown",
   "metadata": {},
   "source": [
    "**If the first argument for the function is a string, it will be interpreted as a complex number and the function must be called without a second parameter.**"
   ]
  },
  {
   "cell_type": "code",
   "execution_count": 45,
   "metadata": {},
   "outputs": [
    {
     "name": "stdout",
     "output_type": "stream",
     "text": [
      "complex number from string: (5+6j)\n"
     ]
    }
   ],
   "source": [
    "c2=complex(\"5+6j\")\n",
    "print(\"complex number from string:\",c2)"
   ]
  },
  {
   "cell_type": "markdown",
   "metadata": {},
   "source": [
    "**If imag is omitted, it defaults to zero and the function serves as a numeric conversion function like int(), long() and float().**"
   ]
  },
  {
   "cell_type": "code",
   "execution_count": 48,
   "metadata": {},
   "outputs": [
    {
     "name": "stdout",
     "output_type": "stream",
     "text": [
      "complex number with inly real part: (7+0j)\n"
     ]
    }
   ],
   "source": [
    "c3=complex(7)\n",
    "print(\"complex number with inly real part:\",c3)"
   ]
  },
  {
   "cell_type": "markdown",
   "metadata": {},
   "source": [
    "**If both arguments are omitted, the complex() function returns 0j.**"
   ]
  },
  {
   "cell_type": "code",
   "execution_count": 51,
   "metadata": {},
   "outputs": [
    {
     "name": "stdout",
     "output_type": "stream",
     "text": [
      "complex number with no arguments 0j\n"
     ]
    }
   ],
   "source": [
    "c4=complex()\n",
    "print(\"complex number with no arguments\",c4)"
   ]
  },
  {
   "cell_type": "code",
   "execution_count": 53,
   "metadata": {},
   "outputs": [
    {
     "name": "stdout",
     "output_type": "stream",
     "text": [
      "complex number from floats: (2.5+3.8j)\n"
     ]
    }
   ],
   "source": [
    "c5=complex(2.5,3.8)\n",
    "print(\"complex number from floats:\",c5)"
   ]
  },
  {
   "cell_type": "markdown",
   "metadata": {},
   "source": [
    "**The ord() function returns an integer representing Unicode code point for the given Unicode character.**"
   ]
  },
  {
   "cell_type": "code",
   "execution_count": 60,
   "metadata": {},
   "outputs": [
    {
     "name": "stdout",
     "output_type": "stream",
     "text": [
      "न -> 2344\n",
      "म -> 2350\n",
      "स -> 2360\n",
      "त -> 2340\n"
     ]
    }
   ],
   "source": [
    "ch1 = 'न'\n",
    "ch2 = 'म'\n",
    "ch3 = 'स'\n",
    "ch4 = 'त'\n",
    "\n",
    "print(f\"{ch1} -> {ord(ch1)}\")\n",
    "print(f\"{ch2} -> {ord(ch2)}\")\n",
    "print(f\"{ch3} -> {ord(ch3)}\")\n",
    "print(f\"{ch4} -> {ord(ch4)}\")\n"
   ]
  },
  {
   "cell_type": "code",
   "execution_count": 62,
   "metadata": {},
   "outputs": [
    {
     "name": "stdout",
     "output_type": "stream",
     "text": [
      "Unicode code point for integer value of 4 is 52\n",
      "Unicode code point for alphabet 'A' is 90\n",
      "Unicode code point for character '$' is 35\n"
     ]
    }
   ],
   "source": [
    "unicode_for_integer = ord('4')\n",
    "unicode_for_alphabet = ord(\"Z\")\n",
    "unicode_for_character = ord(\"#\")\n",
    "print(f\"Unicode code point for integer value of 4 is {unicode_for_integer}\")\n",
    "print(f\"Unicode code point for alphabet 'A' is {unicode_for_alphabet}\")\n",
    "print(f\"Unicode code point for character '$' is {unicode_for_character}\")"
   ]
  },
  {
   "cell_type": "markdown",
   "metadata": {},
   "source": [
    "**hex() Convert an integer number (of any size) to a lowercase hexadecimal string prefixed with “0x” using hex() function.**"
   ]
  },
  {
   "cell_type": "code",
   "execution_count": 65,
   "metadata": {},
   "outputs": [
    {
     "name": "stdout",
     "output_type": "stream",
     "text": [
      "0x1a2cb834470\n"
     ]
    }
   ],
   "source": [
    "'''The id() function in Python returns the unique identity (memory address) \n",
    "of an object for the lifetime of that object.'''\n",
    "id_val = id(\"Hello\")\n",
    "print(hex(id_val))  # Memory address in hex"
   ]
  },
  {
   "cell_type": "code",
   "execution_count": 67,
   "metadata": {},
   "outputs": [
    {
     "name": "stdout",
     "output_type": "stream",
     "text": [
      "1024 in hexadecimal is 0x400\n"
     ]
    }
   ],
   "source": [
    "a=1024\n",
    "print(f\"{a} in hexadecimal is {hex(a)}\")"
   ]
  },
  {
   "cell_type": "markdown",
   "metadata": {},
   "source": [
    "**oct()**\n",
    "- **Convert an integer number (of any size) to an octal string prefixed with “0o” using oct() function.**\n",
    "- **\"0o\" tells Python that it’s octal.**"
   ]
  },
  {
   "cell_type": "code",
   "execution_count": 70,
   "metadata": {},
   "outputs": [
    {
     "name": "stdout",
     "output_type": "stream",
     "text": [
      "0o31\n"
     ]
    }
   ],
   "source": [
    "num = 25\n",
    "print(oct(num))    # Output: '0o31'"
   ]
  },
  {
   "cell_type": "markdown",
   "metadata": {},
   "source": [
    "**The syntax for type() function is,\n",
    "type(object)\n",
    "The type() function returns the data type of the given object**"
   ]
  },
  {
   "cell_type": "code",
   "execution_count": 75,
   "metadata": {},
   "outputs": [
    {
     "data": {
      "text/plain": [
       "int"
      ]
     },
     "execution_count": 75,
     "metadata": {},
     "output_type": "execute_result"
    }
   ],
   "source": [
    "type(1)"
   ]
  },
  {
   "cell_type": "code",
   "execution_count": 77,
   "metadata": {},
   "outputs": [
    {
     "name": "stdout",
     "output_type": "stream",
     "text": [
      "<class 'float'>\n"
     ]
    }
   ],
   "source": [
    "print(type(6.4))"
   ]
  },
  {
   "cell_type": "code",
   "execution_count": 79,
   "metadata": {},
   "outputs": [
    {
     "name": "stdout",
     "output_type": "stream",
     "text": [
      "<class 'str'>\n"
     ]
    }
   ],
   "source": [
    "print(type(\"A\"))"
   ]
  },
  {
   "cell_type": "code",
   "execution_count": 81,
   "metadata": {},
   "outputs": [
    {
     "name": "stdout",
     "output_type": "stream",
     "text": [
      "<class 'bool'>\n"
     ]
    }
   ],
   "source": [
    "print(type(True))"
   ]
  },
  {
   "cell_type": "code",
   "execution_count": 85,
   "metadata": {},
   "outputs": [
    {
     "name": "stdout",
     "output_type": "stream",
     "text": [
      "<class 'complex'>\n"
     ]
    }
   ],
   "source": [
    "print(type(2+3j))"
   ]
  },
  {
   "cell_type": "markdown",
   "metadata": {},
   "source": [
    "**Python is a dynamic language as the type of the variable is determined during run-time by the interpreter. Python is also a strongly typed language as the interpreter keeps track of all the variables types. In a strongly typed language, you are simply not allowed to do anything that’s incompatible with the type of data you are working with.**"
   ]
  },
  {
   "cell_type": "code",
   "execution_count": 88,
   "metadata": {},
   "outputs": [
    {
     "data": {
      "text/plain": [
       "15"
      ]
     },
     "execution_count": 88,
     "metadata": {},
     "output_type": "execute_result"
    }
   ],
   "source": [
    "5+10"
   ]
  },
  {
   "cell_type": "code",
   "execution_count": 90,
   "metadata": {},
   "outputs": [
    {
     "ename": "TypeError",
     "evalue": "unsupported operand type(s) for +: 'int' and 'str'",
     "output_type": "error",
     "traceback": [
      "\u001b[1;31m---------------------------------------------------------------------------\u001b[0m",
      "\u001b[1;31mTypeError\u001b[0m                                 Traceback (most recent call last)",
      "Cell \u001b[1;32mIn[90], line 1\u001b[0m\n\u001b[1;32m----> 1\u001b[0m \u001b[38;5;241m5\u001b[39m\u001b[38;5;241m+\u001b[39m\u001b[38;5;124m\"\u001b[39m\u001b[38;5;124md\u001b[39m\u001b[38;5;124m\"\u001b[39m\n",
      "\u001b[1;31mTypeError\u001b[0m: unsupported operand type(s) for +: 'int' and 'str'"
     ]
    }
   ],
   "source": [
    "5+\"d\""
   ]
  },
  {
   "cell_type": "code",
   "execution_count": 94,
   "metadata": {},
   "outputs": [
    {
     "name": "stdout",
     "output_type": "stream",
     "text": [
      "<class 'int'>\n",
      "<class 'str'>\n"
     ]
    }
   ],
   "source": [
    "x = 5     \n",
    "print(type(x))\n",
    "x = \"hello\"  \n",
    "print(type(x))"
   ]
  },
  {
   "cell_type": "code",
   "execution_count": null,
   "metadata": {},
   "outputs": [],
   "source": []
  }
 ],
 "metadata": {
  "colab": {
   "provenance": []
  },
  "kernelspec": {
   "display_name": "Python 3 (ipykernel)",
   "language": "python",
   "name": "python3"
  },
  "language_info": {
   "codemirror_mode": {
    "name": "ipython",
    "version": 3
   },
   "file_extension": ".py",
   "mimetype": "text/x-python",
   "name": "python",
   "nbconvert_exporter": "python",
   "pygments_lexer": "ipython3",
   "version": "3.11.7"
  }
 },
 "nbformat": 4,
 "nbformat_minor": 4
}
