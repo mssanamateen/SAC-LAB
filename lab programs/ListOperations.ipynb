{
 "cells": [
  {
   "cell_type": "code",
   "execution_count": 1,
   "id": "06ee5e29-2d7a-48cd-b9d2-c3fa9a693f27",
   "metadata": {},
   "outputs": [],
   "source": [
    "subjects=[\"SAC\",\"DBMS\",\"OS\",\"DIS\",\"EITK\",\"P&S\"]\n",
    "labs=[\"SAC\",\"DBMS\",\"OS\",\"IOT\"]"
   ]
  },
  {
   "cell_type": "code",
   "execution_count": 3,
   "id": "8bcef0ad-570f-484c-8307-99dea945d0ad",
   "metadata": {},
   "outputs": [
    {
     "data": {
      "text/plain": [
       "list"
      ]
     },
     "execution_count": 3,
     "metadata": {},
     "output_type": "execute_result"
    }
   ],
   "source": [
    "type(subjects)"
   ]
  },
  {
   "cell_type": "code",
   "execution_count": 5,
   "id": "ec81be15-8a2c-4b02-9132-8e13baeefac2",
   "metadata": {},
   "outputs": [
    {
     "data": {
      "text/plain": [
       "list"
      ]
     },
     "execution_count": 5,
     "metadata": {},
     "output_type": "execute_result"
    }
   ],
   "source": [
    "type(labs)"
   ]
  },
  {
   "cell_type": "code",
   "execution_count": 7,
   "id": "e2d39601-0dbe-4a31-b550-11b0e5fcfdfe",
   "metadata": {},
   "outputs": [],
   "source": [
    "mids=[]"
   ]
  },
  {
   "cell_type": "code",
   "execution_count": 9,
   "id": "da429763-351a-4c5e-ab09-739200bb5c09",
   "metadata": {},
   "outputs": [
    {
     "data": {
      "text/plain": [
       "list"
      ]
     },
     "execution_count": 9,
     "metadata": {},
     "output_type": "execute_result"
    }
   ],
   "source": [
    "type(mids)"
   ]
  },
  {
   "cell_type": "code",
   "execution_count": 11,
   "id": "df7e7db5-2953-4ad4-bb80-bed74e1833ce",
   "metadata": {},
   "outputs": [
    {
     "name": "stdout",
     "output_type": "stream",
     "text": [
      "<class 'list'> <class 'list'> <class 'list'>\n"
     ]
    }
   ],
   "source": [
    "print(type(subjects),type(labs),type(mids))"
   ]
  },
  {
   "cell_type": "code",
   "execution_count": 13,
   "id": "2856fd37-25d9-4789-aa4d-b20502bb9d9b",
   "metadata": {},
   "outputs": [
    {
     "name": "stdout",
     "output_type": "stream",
     "text": [
      "[35, 32, 34, 33, 38, 36, 36, 32, 34, 35]\n"
     ]
    }
   ],
   "source": [
    "subject_marks=[35,32,34,33,38,36]\n",
    "lab_marks=[36,32,34,35]\n",
    "total_marks=subject_marks+lab_marks\n",
    "print(total_marks)"
   ]
  },
  {
   "cell_type": "code",
   "execution_count": 15,
   "id": "ac116d09-75c0-4d23-b611-4c50289c1e75",
   "metadata": {},
   "outputs": [
    {
     "name": "stdout",
     "output_type": "stream",
     "text": [
      "['SAC', 'DBMS', 'OS', 'DIS', 'EITK', 'P&S']\n",
      "['SAC', 'DBMS', 'OS', 'IOT']\n"
     ]
    }
   ],
   "source": [
    "print(subjects)\n",
    "print(labs)"
   ]
  },
  {
   "cell_type": "code",
   "execution_count": 17,
   "id": "a893dfe9-67d1-4674-a2b8-d8cba7921987",
   "metadata": {},
   "outputs": [
    {
     "name": "stdout",
     "output_type": "stream",
     "text": [
      "['SAC', 'DBMS', 'OS', 'DIS', 'EITK', 'P&S', 'SAC', 'DBMS', 'OS', 'IOT']\n"
     ]
    }
   ],
   "source": [
    "total_subjects=subjects+labs\n",
    "print(total_subjects)"
   ]
  },
  {
   "cell_type": "code",
   "execution_count": 19,
   "id": "c7cc218d-1e3b-4f7c-b23d-9ef67bd3fd6d",
   "metadata": {},
   "outputs": [
    {
     "name": "stdout",
     "output_type": "stream",
     "text": [
      "<class 'list'>\n"
     ]
    }
   ],
   "source": [
    "print(type(total_subjects))"
   ]
  },
  {
   "cell_type": "code",
   "execution_count": 21,
   "id": "8a2cc899-2978-431b-b0cc-a624cfe4b1cd",
   "metadata": {},
   "outputs": [
    {
     "data": {
      "text/plain": [
       "[36, 32, 34, 35, 36, 32, 34, 35, 36, 32, 34, 35]"
      ]
     },
     "execution_count": 21,
     "metadata": {},
     "output_type": "execute_result"
    }
   ],
   "source": [
    "lab_marks*3"
   ]
  },
  {
   "cell_type": "code",
   "execution_count": 23,
   "id": "b489e288-b085-4721-9a60-9d4c65569b5d",
   "metadata": {},
   "outputs": [
    {
     "data": {
      "text/plain": [
       "[36, 32, 34, 35]"
      ]
     },
     "execution_count": 23,
     "metadata": {},
     "output_type": "execute_result"
    }
   ],
   "source": [
    "lab_marks"
   ]
  },
  {
   "cell_type": "code",
   "execution_count": 25,
   "id": "353a51aa-6613-47b3-8089-faceabbc7187",
   "metadata": {},
   "outputs": [
    {
     "data": {
      "text/plain": [
       "True"
      ]
     },
     "execution_count": 25,
     "metadata": {},
     "output_type": "execute_result"
    }
   ],
   "source": [
    "'SAC' in subjects"
   ]
  },
  {
   "cell_type": "code",
   "execution_count": 27,
   "id": "d80d4866-216c-49ea-a899-a98986d2b5d9",
   "metadata": {},
   "outputs": [
    {
     "data": {
      "text/plain": [
       "True"
      ]
     },
     "execution_count": 27,
     "metadata": {},
     "output_type": "execute_result"
    }
   ],
   "source": [
    "'SAC' in labs"
   ]
  },
  {
   "cell_type": "code",
   "execution_count": 29,
   "id": "b3fa43ba-0d25-4156-9bea-562853544733",
   "metadata": {},
   "outputs": [],
   "source": [
    "quote=\"Dare to dream\""
   ]
  },
  {
   "cell_type": "code",
   "execution_count": 31,
   "id": "13f0a457-e0da-4a04-9299-ca080a053be5",
   "metadata": {},
   "outputs": [
    {
     "name": "stdout",
     "output_type": "stream",
     "text": [
      "['D', 'a', 'r', 'e', ' ', 't', 'o', ' ', 'd', 'r', 'e', 'a', 'm']\n"
     ]
    }
   ],
   "source": [
    "string_to_list=list(quote)\n",
    "print(string_to_list)"
   ]
  },
  {
   "cell_type": "code",
   "execution_count": 33,
   "id": "9d40778d-926a-4af0-8585-46266068c666",
   "metadata": {},
   "outputs": [],
   "source": [
    "section=['C','S','B']"
   ]
  },
  {
   "cell_type": "code",
   "execution_count": 37,
   "id": "d474bf36-4b0a-41e0-9c37-17f9d5426200",
   "metadata": {},
   "outputs": [
    {
     "name": "stdout",
     "output_type": "stream",
     "text": [
      "['D', 'a', 'r', 'e', ' ', 't', 'o', ' ', 'd', 'r', 'e', 'a', 'm', 'C', 'S', 'B']\n"
     ]
    }
   ],
   "source": [
    "print(string_to_list+section)"
   ]
  },
  {
   "cell_type": "code",
   "execution_count": 39,
   "id": "67fef426-61b7-4188-82bb-c965030ab324",
   "metadata": {},
   "outputs": [
    {
     "ename": "TypeError",
     "evalue": "can only concatenate str (not \"list\") to str",
     "output_type": "error",
     "traceback": [
      "\u001b[1;31m---------------------------------------------------------------------------\u001b[0m",
      "\u001b[1;31mTypeError\u001b[0m                                 Traceback (most recent call last)",
      "Cell \u001b[1;32mIn[39], line 1\u001b[0m\n\u001b[1;32m----> 1\u001b[0m quote\u001b[38;5;241m+\u001b[39msection\n",
      "\u001b[1;31mTypeError\u001b[0m: can only concatenate str (not \"list\") to str"
     ]
    }
   ],
   "source": [
    "quote+section"
   ]
  },
  {
   "cell_type": "code",
   "execution_count": 41,
   "id": "c945caa5-fff7-4506-95d7-bdb7f627f4ac",
   "metadata": {},
   "outputs": [],
   "source": [
    "students=[\"robin\",\"thejas\",\"varshith\",\"ganesh\"]"
   ]
  },
  {
   "cell_type": "code",
   "execution_count": 43,
   "id": "e3c50588-6342-480d-a862-1d2980ed7cad",
   "metadata": {},
   "outputs": [
    {
     "data": {
      "text/plain": [
       "'robin'"
      ]
     },
     "execution_count": 43,
     "metadata": {},
     "output_type": "execute_result"
    }
   ],
   "source": [
    "students[0]"
   ]
  },
  {
   "cell_type": "code",
   "execution_count": 45,
   "id": "3e57c611-d72b-4411-9a8b-4df0ffded103",
   "metadata": {},
   "outputs": [
    {
     "data": {
      "text/plain": [
       "'thejas'"
      ]
     },
     "execution_count": 45,
     "metadata": {},
     "output_type": "execute_result"
    }
   ],
   "source": [
    "students[1]"
   ]
  },
  {
   "cell_type": "code",
   "execution_count": 47,
   "id": "2b2b6656-54b1-4571-9fe7-e939841e482e",
   "metadata": {},
   "outputs": [
    {
     "data": {
      "text/plain": [
       "'varshith'"
      ]
     },
     "execution_count": 47,
     "metadata": {},
     "output_type": "execute_result"
    }
   ],
   "source": [
    "students[2]"
   ]
  },
  {
   "cell_type": "code",
   "execution_count": 49,
   "id": "b0e3b495-7508-42b4-aaac-b0418dc52e65",
   "metadata": {},
   "outputs": [
    {
     "data": {
      "text/plain": [
       "'ganesh'"
      ]
     },
     "execution_count": 49,
     "metadata": {},
     "output_type": "execute_result"
    }
   ],
   "source": [
    "students[3]"
   ]
  },
  {
   "cell_type": "code",
   "execution_count": 51,
   "id": "82d81034-e538-4893-aa53-16766af9de55",
   "metadata": {},
   "outputs": [
    {
     "ename": "IndexError",
     "evalue": "list index out of range",
     "output_type": "error",
     "traceback": [
      "\u001b[1;31m---------------------------------------------------------------------------\u001b[0m",
      "\u001b[1;31mIndexError\u001b[0m                                Traceback (most recent call last)",
      "Cell \u001b[1;32mIn[51], line 1\u001b[0m\n\u001b[1;32m----> 1\u001b[0m students[\u001b[38;5;241m4\u001b[39m]\n",
      "\u001b[1;31mIndexError\u001b[0m: list index out of range"
     ]
    }
   ],
   "source": [
    "students[4]"
   ]
  },
  {
   "cell_type": "code",
   "execution_count": 53,
   "id": "4919932e-e7f2-443e-a765-f4a806534c2c",
   "metadata": {},
   "outputs": [
    {
     "data": {
      "text/plain": [
       "['robin', 'thejas', 'varshith', 'ganesh']"
      ]
     },
     "execution_count": 53,
     "metadata": {},
     "output_type": "execute_result"
    }
   ],
   "source": [
    "students"
   ]
  },
  {
   "cell_type": "code",
   "execution_count": 55,
   "id": "b041b8bd-8fc3-4060-8631-b44cd1d8b59b",
   "metadata": {},
   "outputs": [],
   "source": [
    "students[0]=\"Robin Thomas Antony\""
   ]
  },
  {
   "cell_type": "code",
   "execution_count": 57,
   "id": "1cdd5f05-a32d-4b50-9a44-8af0e032d1bc",
   "metadata": {},
   "outputs": [
    {
     "data": {
      "text/plain": [
       "['Robin Thomas Antony', 'thejas', 'varshith', 'ganesh']"
      ]
     },
     "execution_count": 57,
     "metadata": {},
     "output_type": "execute_result"
    }
   ],
   "source": [
    "students"
   ]
  },
  {
   "cell_type": "code",
   "execution_count": 59,
   "id": "674dab45-1746-4c59-bb35-f05e6916f6b8",
   "metadata": {},
   "outputs": [],
   "source": [
    "students[2]=\"Sai Varshith\""
   ]
  },
  {
   "cell_type": "code",
   "execution_count": 61,
   "id": "5c2f60aa-ae2f-475f-99b1-47ebbbf55af4",
   "metadata": {},
   "outputs": [
    {
     "data": {
      "text/plain": [
       "['Robin Thomas Antony', 'thejas', 'Sai Varshith', 'ganesh']"
      ]
     },
     "execution_count": 61,
     "metadata": {},
     "output_type": "execute_result"
    }
   ],
   "source": [
    "students"
   ]
  },
  {
   "cell_type": "code",
   "execution_count": 63,
   "id": "29b81692-78f1-44a1-9d89-99082c2a7593",
   "metadata": {},
   "outputs": [
    {
     "data": {
      "text/plain": [
       "'ganesh'"
      ]
     },
     "execution_count": 63,
     "metadata": {},
     "output_type": "execute_result"
    }
   ],
   "source": [
    "students[-1]"
   ]
  },
  {
   "cell_type": "code",
   "execution_count": 65,
   "id": "7c6ed6a2-3f80-4f41-b389-5014b7247272",
   "metadata": {},
   "outputs": [
    {
     "data": {
      "text/plain": [
       "'Sai Varshith'"
      ]
     },
     "execution_count": 65,
     "metadata": {},
     "output_type": "execute_result"
    }
   ],
   "source": [
    "students[-2]"
   ]
  },
  {
   "cell_type": "code",
   "execution_count": 67,
   "id": "5484c4bd-224f-413c-9ce0-a4d3c7fee7e6",
   "metadata": {},
   "outputs": [
    {
     "data": {
      "text/plain": [
       "'thejas'"
      ]
     },
     "execution_count": 67,
     "metadata": {},
     "output_type": "execute_result"
    }
   ],
   "source": [
    "students[-3]"
   ]
  },
  {
   "cell_type": "code",
   "execution_count": 69,
   "id": "7b5aa5b5-8120-4671-8e8d-6dfb83b47a39",
   "metadata": {},
   "outputs": [
    {
     "data": {
      "text/plain": [
       "'Robin Thomas Antony'"
      ]
     },
     "execution_count": 69,
     "metadata": {},
     "output_type": "execute_result"
    }
   ],
   "source": [
    "students[-4]"
   ]
  },
  {
   "cell_type": "code",
   "execution_count": 71,
   "id": "86f6ab5a-b93d-45b5-9b10-34841cbc64df",
   "metadata": {},
   "outputs": [],
   "source": [
    "zoo = [\"Lion\", \"Tiger\", \"Zebra\"]"
   ]
  },
  {
   "cell_type": "code",
   "execution_count": 73,
   "id": "6f8b4dfd-3ddc-45a1-b62e-bc9344bf421e",
   "metadata": {},
   "outputs": [],
   "source": [
    "forest = zoo"
   ]
  },
  {
   "cell_type": "code",
   "execution_count": 75,
   "id": "e1f6585b-93af-4613-8378-8d32e1ca827f",
   "metadata": {},
   "outputs": [
    {
     "data": {
      "text/plain": [
       "list"
      ]
     },
     "execution_count": 75,
     "metadata": {},
     "output_type": "execute_result"
    }
   ],
   "source": [
    "type(zoo)"
   ]
  },
  {
   "cell_type": "code",
   "execution_count": 77,
   "id": "43bd9cd0-d389-4c65-85ff-c40a328cb820",
   "metadata": {},
   "outputs": [
    {
     "data": {
      "text/plain": [
       "list"
      ]
     },
     "execution_count": 77,
     "metadata": {},
     "output_type": "execute_result"
    }
   ],
   "source": [
    "type(forest)"
   ]
  },
  {
   "cell_type": "code",
   "execution_count": 79,
   "id": "7dfff1b0-9fdc-43b3-8ce9-24ee9eed914e",
   "metadata": {},
   "outputs": [
    {
     "data": {
      "text/plain": [
       "['Lion', 'Tiger', 'Zebra']"
      ]
     },
     "execution_count": 79,
     "metadata": {},
     "output_type": "execute_result"
    }
   ],
   "source": [
    "forest"
   ]
  },
  {
   "cell_type": "code",
   "execution_count": 81,
   "id": "88479127-a935-4ac8-96bf-657d18ad9e1b",
   "metadata": {},
   "outputs": [
    {
     "data": {
      "text/plain": [
       "['SAC', 'DBMS', 'OS', 'DIS', 'EITK', 'P&S']"
      ]
     },
     "execution_count": 81,
     "metadata": {},
     "output_type": "execute_result"
    }
   ],
   "source": [
    "subjects"
   ]
  },
  {
   "cell_type": "code",
   "execution_count": 83,
   "id": "f87a0bd6-4b69-4207-be5a-2330bc0228b7",
   "metadata": {},
   "outputs": [
    {
     "data": {
      "text/plain": [
       "['SAC', 'DBMS', 'OS', 'IOT']"
      ]
     },
     "execution_count": 83,
     "metadata": {},
     "output_type": "execute_result"
    }
   ],
   "source": [
    "labs"
   ]
  },
  {
   "cell_type": "code",
   "execution_count": 85,
   "id": "b02767f3-ca53-4d2c-a698-f90857b10af3",
   "metadata": {},
   "outputs": [
    {
     "data": {
      "text/plain": [
       "['DBMS', 'OS', 'DIS']"
      ]
     },
     "execution_count": 85,
     "metadata": {},
     "output_type": "execute_result"
    }
   ],
   "source": [
    "subjects[1:4]"
   ]
  },
  {
   "cell_type": "code",
   "execution_count": 87,
   "id": "5feb8f1d-f20a-4649-ad4b-4bd1340a6a20",
   "metadata": {},
   "outputs": [
    {
     "data": {
      "text/plain": [
       "['SAC', 'DBMS', 'OS', 'DIS', 'EITK']"
      ]
     },
     "execution_count": 87,
     "metadata": {},
     "output_type": "execute_result"
    }
   ],
   "source": [
    "subjects[:5]"
   ]
  },
  {
   "cell_type": "code",
   "execution_count": 89,
   "id": "22b9514e-7d9d-48d5-b96c-d47be2a95789",
   "metadata": {},
   "outputs": [
    {
     "data": {
      "text/plain": [
       "['OS', 'DIS', 'EITK', 'P&S']"
      ]
     },
     "execution_count": 89,
     "metadata": {},
     "output_type": "execute_result"
    }
   ],
   "source": [
    "subjects[2:]"
   ]
  },
  {
   "cell_type": "code",
   "execution_count": 91,
   "id": "137c8a55-344b-4df2-a77b-4cabc3a3fc44",
   "metadata": {},
   "outputs": [
    {
     "data": {
      "text/plain": [
       "['SAC', 'DBMS', 'OS', 'DIS', 'EITK', 'P&S', 'SAC', 'DBMS', 'OS', 'IOT']"
      ]
     },
     "execution_count": 91,
     "metadata": {},
     "output_type": "execute_result"
    }
   ],
   "source": [
    "total_subjects"
   ]
  },
  {
   "cell_type": "code",
   "execution_count": 93,
   "id": "af69d979-9a45-4b95-bc29-dbc8bdb725ac",
   "metadata": {},
   "outputs": [
    {
     "data": {
      "text/plain": [
       "['DBMS', 'OS', 'DIS']"
      ]
     },
     "execution_count": 93,
     "metadata": {},
     "output_type": "execute_result"
    }
   ],
   "source": [
    "total_subjects[1:4]"
   ]
  },
  {
   "cell_type": "code",
   "execution_count": 95,
   "id": "3fe72abe-8bea-42b4-867d-d64a2e359d92",
   "metadata": {},
   "outputs": [
    {
     "data": {
      "text/plain": [
       "['DBMS', 'OS', 'DIS', 'EITK', 'P&S', 'SAC', 'DBMS', 'OS', 'IOT']"
      ]
     },
     "execution_count": 95,
     "metadata": {},
     "output_type": "execute_result"
    }
   ],
   "source": [
    "total_subjects[1:]"
   ]
  },
  {
   "cell_type": "code",
   "execution_count": 97,
   "id": "2f7d3e81-0bb5-4d84-9e0b-5c85a56d63a4",
   "metadata": {},
   "outputs": [
    {
     "data": {
      "text/plain": [
       "['SAC', 'DBMS', 'OS', 'DIS', 'EITK']"
      ]
     },
     "execution_count": 97,
     "metadata": {},
     "output_type": "execute_result"
    }
   ],
   "source": [
    "total_subjects[:5]"
   ]
  },
  {
   "cell_type": "code",
   "execution_count": 99,
   "id": "419a2c5b-7412-4a83-86d4-4bff4bdc8d6a",
   "metadata": {},
   "outputs": [
    {
     "data": {
      "text/plain": [
       "['SAC', 'OS', 'EITK', 'SAC']"
      ]
     },
     "execution_count": 99,
     "metadata": {},
     "output_type": "execute_result"
    }
   ],
   "source": [
    "total_subjects[0:7:2]"
   ]
  },
  {
   "cell_type": "code",
   "execution_count": 101,
   "id": "855b7278-cfb6-41a6-b455-4bd8c18aa89d",
   "metadata": {},
   "outputs": [
    {
     "data": {
      "text/plain": [
       "['IOT', 'OS', 'DBMS', 'SAC', 'P&S', 'EITK', 'DIS', 'OS', 'DBMS', 'SAC']"
      ]
     },
     "execution_count": 101,
     "metadata": {},
     "output_type": "execute_result"
    }
   ],
   "source": [
    "total_subjects[::-1]"
   ]
  },
  {
   "cell_type": "code",
   "execution_count": 103,
   "id": "ca9b0fd9-29c9-40d9-bfcc-f6ebed8a7513",
   "metadata": {},
   "outputs": [
    {
     "data": {
      "text/plain": [
       "['DBMS', 'OS']"
      ]
     },
     "execution_count": 103,
     "metadata": {},
     "output_type": "execute_result"
    }
   ],
   "source": [
    "total_subjects[-3:-1]"
   ]
  },
  {
   "cell_type": "code",
   "execution_count": 105,
   "id": "08748a54-2f0f-46ac-857e-915f42955299",
   "metadata": {},
   "outputs": [
    {
     "data": {
      "text/plain": [
       "['SAC', 'DBMS', 'OS', 'DIS', 'EITK', 'P&S', 'SAC', 'DBMS', 'OS', 'IOT']"
      ]
     },
     "execution_count": 105,
     "metadata": {},
     "output_type": "execute_result"
    }
   ],
   "source": [
    "total_subjects[:]"
   ]
  },
  {
   "cell_type": "code",
   "execution_count": 111,
   "id": "2efcaee4-6304-4ec2-9546-bdc4fab24221",
   "metadata": {},
   "outputs": [
    {
     "name": "stdout",
     "output_type": "stream",
     "text": [
      "SAC\n",
      "DBMS\n",
      "OS\n",
      "DIS\n",
      "EITK\n",
      "P&S\n",
      "SAC\n",
      "DBMS\n",
      "OS\n",
      "IOT\n"
     ]
    }
   ],
   "source": [
    "for i in range(len(total_subjects)):\n",
    "    print(total_subjects[i])"
   ]
  },
  {
   "cell_type": "code",
   "execution_count": 113,
   "id": "6f162da9-b035-46b8-934e-c6d296d2d187",
   "metadata": {},
   "outputs": [
    {
     "name": "stdout",
     "output_type": "stream",
     "text": [
      "3\n"
     ]
    }
   ],
   "source": [
    "skills=[\"machine learning\",\"AI\",\"Deep Learning\"]\n",
    "print(len(skills))"
   ]
  },
  {
   "cell_type": "code",
   "execution_count": 115,
   "id": "07f76659-2f9b-455d-ba41-0496cfd61e82",
   "metadata": {},
   "outputs": [
    {
     "name": "stdout",
     "output_type": "stream",
     "text": [
      "148\n"
     ]
    }
   ],
   "source": [
    "marks=[30,40,38,40]\n",
    "print(sum(marks))"
   ]
  },
  {
   "cell_type": "code",
   "execution_count": 117,
   "id": "f9003075-03bf-4856-bb9a-c39e187dd340",
   "metadata": {},
   "outputs": [
    {
     "name": "stdout",
     "output_type": "stream",
     "text": [
      "40\n"
     ]
    }
   ],
   "source": [
    "print(max(marks))"
   ]
  },
  {
   "cell_type": "code",
   "execution_count": 119,
   "id": "7a350277-03c6-4b19-9411-2e7112d662ec",
   "metadata": {},
   "outputs": [
    {
     "name": "stdout",
     "output_type": "stream",
     "text": [
      "30\n"
     ]
    }
   ],
   "source": [
    "print(min(marks))"
   ]
  },
  {
   "cell_type": "code",
   "execution_count": 121,
   "id": "582be8d2-a6e2-4364-bc38-8353543e54a2",
   "metadata": {},
   "outputs": [
    {
     "name": "stdout",
     "output_type": "stream",
     "text": [
      "[30, 38, 40, 40]\n"
     ]
    }
   ],
   "source": [
    "sorted_marks=sorted(marks)\n",
    "print(sorted_marks)"
   ]
  },
  {
   "cell_type": "code",
   "execution_count": 123,
   "id": "d374dbc1-8888-4f59-81e3-6068ec7aa95b",
   "metadata": {},
   "outputs": [
    {
     "name": "stdout",
     "output_type": "stream",
     "text": [
      "True\n"
     ]
    }
   ],
   "source": [
    "choice=[1,1,0,0,0,0]\n",
    "print(any(choice))"
   ]
  },
  {
   "cell_type": "code",
   "execution_count": 125,
   "id": "713afb3c-1d0e-4d18-bda1-c5d975458256",
   "metadata": {},
   "outputs": [
    {
     "name": "stdout",
     "output_type": "stream",
     "text": [
      "True\n"
     ]
    }
   ],
   "source": [
    "bits=[1,1,1,1,1]\n",
    "print(all(bits))"
   ]
  },
  {
   "cell_type": "code",
   "execution_count": 131,
   "id": "b6e0ac73-565d-40b5-a679-e4f78cea75e1",
   "metadata": {},
   "outputs": [
    {
     "data": {
      "text/plain": [
       "['__add__',\n",
       " '__class__',\n",
       " '__class_getitem__',\n",
       " '__contains__',\n",
       " '__delattr__',\n",
       " '__delitem__',\n",
       " '__dir__',\n",
       " '__doc__',\n",
       " '__eq__',\n",
       " '__format__',\n",
       " '__ge__',\n",
       " '__getattribute__',\n",
       " '__getitem__',\n",
       " '__getstate__',\n",
       " '__gt__',\n",
       " '__hash__',\n",
       " '__iadd__',\n",
       " '__imul__',\n",
       " '__init__',\n",
       " '__init_subclass__',\n",
       " '__iter__',\n",
       " '__le__',\n",
       " '__len__',\n",
       " '__lt__',\n",
       " '__mul__',\n",
       " '__ne__',\n",
       " '__new__',\n",
       " '__reduce__',\n",
       " '__reduce_ex__',\n",
       " '__repr__',\n",
       " '__reversed__',\n",
       " '__rmul__',\n",
       " '__setattr__',\n",
       " '__setitem__',\n",
       " '__sizeof__',\n",
       " '__str__',\n",
       " '__subclasshook__',\n",
       " 'append',\n",
       " 'clear',\n",
       " 'copy',\n",
       " 'count',\n",
       " 'extend',\n",
       " 'index',\n",
       " 'insert',\n",
       " 'pop',\n",
       " 'remove',\n",
       " 'reverse',\n",
       " 'sort']"
      ]
     },
     "execution_count": 131,
     "metadata": {},
     "output_type": "execute_result"
    }
   ],
   "source": [
    "dir(list)"
   ]
  },
  {
   "cell_type": "code",
   "execution_count": 133,
   "id": "471218f3-c3cd-4407-b58f-4e589f0aef91",
   "metadata": {},
   "outputs": [
    {
     "name": "stdout",
     "output_type": "stream",
     "text": [
      "skills list: ['programming', 'ethical hacking']\n",
      "['programming', 'ethical hacking', 'machine learning']\n"
     ]
    }
   ],
   "source": [
    "skills=[\"programming\",\"ethical hacking\"]\n",
    "print(\"skills list:\",skills)\n",
    "skills.append(\"machine learning\")\n",
    "print(skills)"
   ]
  },
  {
   "cell_type": "code",
   "execution_count": 135,
   "id": "a2f9f72b-ddc5-4f8c-a8f3-0a6ef57f2b85",
   "metadata": {},
   "outputs": [
    {
     "name": "stdout",
     "output_type": "stream",
     "text": [
      "3\n"
     ]
    }
   ],
   "source": [
    "marks=[20,30,34,32,35,36,30,20,30]\n",
    "print(marks.count(30))"
   ]
  },
  {
   "cell_type": "code",
   "execution_count": 137,
   "id": "d9ce85e5-5e6e-4e3c-8f6d-46bddce3fccb",
   "metadata": {},
   "outputs": [
    {
     "data": {
      "text/plain": [
       "['SAC', 'programming', 'ethical hacking', 'machine learning']"
      ]
     },
     "execution_count": 137,
     "metadata": {},
     "output_type": "execute_result"
    }
   ],
   "source": [
    "skills.insert(0,\"SAC\")\n",
    "skills"
   ]
  },
  {
   "cell_type": "code",
   "execution_count": 139,
   "id": "2da17c93-0fe5-4cce-93d0-67996c857b43",
   "metadata": {},
   "outputs": [],
   "source": [
    "skills.extend(marks)"
   ]
  },
  {
   "cell_type": "code",
   "execution_count": 143,
   "id": "1b5654b2-fedf-41bd-980a-557d25649efd",
   "metadata": {},
   "outputs": [
    {
     "name": "stdout",
     "output_type": "stream",
     "text": [
      "['SAC', 'programming', 'ethical hacking', 'machine learning', 20, 30, 34, 32, 35, 36, 30, 20, 30]\n"
     ]
    }
   ],
   "source": [
    "print(skills)"
   ]
  },
  {
   "cell_type": "code",
   "execution_count": 147,
   "id": "fde9f22a-4f53-4b99-98e0-1a93076e2bc4",
   "metadata": {},
   "outputs": [],
   "source": [
    "skills.remove(\"programming\")"
   ]
  },
  {
   "cell_type": "code",
   "execution_count": 151,
   "id": "63480076-737c-413f-8811-ae8b4345d1c3",
   "metadata": {},
   "outputs": [
    {
     "name": "stdout",
     "output_type": "stream",
     "text": [
      "['SAC', 'ethical hacking', 'machine learning', 20, 30, 34, 32, 35, 36, 30, 20, 30]\n"
     ]
    }
   ],
   "source": [
    "print(skills)"
   ]
  },
  {
   "cell_type": "code",
   "execution_count": 153,
   "id": "4fbce155-5f96-4cc5-827e-ea9f3c727775",
   "metadata": {},
   "outputs": [
    {
     "data": {
      "text/plain": [
       "[20, 30, 34, 32, 35, 36, 30, 20, 30]"
      ]
     },
     "execution_count": 153,
     "metadata": {},
     "output_type": "execute_result"
    }
   ],
   "source": [
    "marks"
   ]
  },
  {
   "cell_type": "code",
   "execution_count": 155,
   "id": "e444ada8-9793-41e4-8c74-87e61957e631",
   "metadata": {},
   "outputs": [],
   "source": [
    "marks.sort()"
   ]
  },
  {
   "cell_type": "code",
   "execution_count": 157,
   "id": "06fec5c9-9d04-4b65-8dfa-bd6f5554affa",
   "metadata": {},
   "outputs": [
    {
     "data": {
      "text/plain": [
       "[20, 20, 30, 30, 30, 32, 34, 35, 36]"
      ]
     },
     "execution_count": 157,
     "metadata": {},
     "output_type": "execute_result"
    }
   ],
   "source": [
    "marks"
   ]
  },
  {
   "cell_type": "code",
   "execution_count": 159,
   "id": "d724776c-5717-4689-b989-289f16b98b74",
   "metadata": {},
   "outputs": [],
   "source": [
    "marks.reverse()"
   ]
  },
  {
   "cell_type": "code",
   "execution_count": 161,
   "id": "90496bd5-ed73-43d6-9f04-f10287e09c77",
   "metadata": {},
   "outputs": [
    {
     "data": {
      "text/plain": [
       "[36, 35, 34, 32, 30, 30, 30, 20, 20]"
      ]
     },
     "execution_count": 161,
     "metadata": {},
     "output_type": "execute_result"
    }
   ],
   "source": [
    "marks"
   ]
  },
  {
   "cell_type": "code",
   "execution_count": 163,
   "id": "05403bea-f8c9-4616-8201-4469175d64ef",
   "metadata": {},
   "outputs": [
    {
     "data": {
      "text/plain": [
       "[36, 35, 34, 32, 30, 30, 30, 20]"
      ]
     },
     "execution_count": 163,
     "metadata": {},
     "output_type": "execute_result"
    }
   ],
   "source": [
    "marks.pop()\n",
    "marks"
   ]
  },
  {
   "cell_type": "code",
   "execution_count": null,
   "id": "3eced60a-af55-4c13-a9ea-f594bb2f4cf2",
   "metadata": {},
   "outputs": [],
   "source": []
  }
 ],
 "metadata": {
  "kernelspec": {
   "display_name": "Python 3 (ipykernel)",
   "language": "python",
   "name": "python3"
  },
  "language_info": {
   "codemirror_mode": {
    "name": "ipython",
    "version": 3
   },
   "file_extension": ".py",
   "mimetype": "text/x-python",
   "name": "python",
   "nbconvert_exporter": "python",
   "pygments_lexer": "ipython3",
   "version": "3.11.7"
  }
 },
 "nbformat": 4,
 "nbformat_minor": 5
}
